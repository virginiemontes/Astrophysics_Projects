{
 "cells": [
  {
   "cell_type": "markdown",
   "metadata": {},
   "source": [
    "# IRAS 16562-3959 Surface Density Distribution"
   ]
  },
  {
   "cell_type": "code",
   "execution_count": null,
   "metadata": {
    "collapsed": true
   },
   "outputs": [],
   "source": [
    "# Parts of the code were adapted from Jake VanderPlas entry on AstroML\n",
    "# http://www.astroml.org/book_figures/chapter6/fig_great_wall.html\n",
    "\n",
    "# Importing libraries\n",
    "import numpy as np\n",
    "from matplotlib import pyplot as plt\n",
    "from matplotlib.colors import LogNorm\n",
    "import matplotlib.patches as patches\n",
    "import matplotlib as mpl\n",
    "\n",
    "from scipy.spatial import cKDTree\n",
    "\n",
    "from astroML.density_estimation import KDE, KNeighborsDensity\n",
    "\n",
    "#----------------------------------------------------------------------\n",
    "# This function adjusts matplotlib settings for a uniform feel in the textbook.\n",
    "# Note that with usetex=True, fonts are rendered with LaTeX.  This may\n",
    "# result in an error if LaTeX is not installed on your system.  In that case,\n",
    "# you can set usetex to False.\n",
    "from astroML.plotting import setup_text_plots\n",
    "setup_text_plots(fontsize=8, usetex=True)\n"
   ]
  },
  {
   "cell_type": "code",
   "execution_count": null,
   "metadata": {
    "scrolled": true
   },
   "outputs": [],
   "source": [
    "# Open the data\n",
    "X = np.loadtxt('All_protostars_with_unclass_Xray_physical_coordinates.txt')\n",
    "Class_I = np.loadtxt('Class_I_physical_coordinates.txt')\n",
    "Class_II = np.loadtxt('Class_II_physical_coordinates.txt')\n",
    "Class_III = np.loadtxt('Class_III_physical_coordinates.txt')\n",
    "Unclass = np.loadtxt('Unclassified_Xray_physical_coordinates.txt')\n",
    "\n",
    "# Create  the grid on which to evaluate the results\n",
    "Nx = 200\n",
    "Ny = 200\n",
    "xmin, xmax = (-8, 8)\n",
    "ymin, ymax = (-8, 8)\n",
    "\n",
    "\n",
    "# Evaluate for several models\n",
    "Xgrid = np.vstack(map(np.ravel, np.meshgrid(np.linspace(xmin, xmax, Nx),\n",
    "                                            np.linspace(ymin, ymax, Ny)))).T\n",
    "\n",
    "knn6 = KNeighborsDensity('bayesian', 6)\n",
    "dens_k6 = knn6.fit(X).eval(Xgrid).reshape((Ny, Nx))\n",
    "\n",
    "knn10 = KNeighborsDensity('bayesian', 10)\n",
    "dens_k10 = knn10.fit(X).eval(Xgrid).reshape((Ny, Nx))\n",
    "\n",
    "knn18 = KNeighborsDensity('bayesian', 18)\n",
    "dens_k18 = knn18.fit(X).eval(Xgrid).reshape((Ny, Nx))\n",
    "\n",
    "knn22 = KNeighborsDensity('bayesian', 22)\n",
    "dens_k22 = knn22.fit(X).eval(Xgrid).reshape((Ny, Nx))\n"
   ]
  },
  {
   "cell_type": "code",
   "execution_count": null,
   "metadata": {
    "collapsed": true
   },
   "outputs": [],
   "source": [
    "# Plot the results\n",
    "fig = plt.figure(figsize=(15, 15))\n",
    "fig.subplots_adjust(left=0.12, right=0.95, bottom=0.2, top=0.9,\n",
    "                    hspace=0.01, wspace=0.01)\n",
    "\n",
    "# First plot: scatter the points\n",
    "ax1 = plt.subplot(221, aspect='equal')\n",
    "ax1.scatter(X[:, 1], X[:, 0], s=1, lw=0, c='k')\n",
    "ax1.text(0.95, 0.9, \"input\", ha='right', va='top',\n",
    "         transform=ax1.transAxes,\n",
    "         bbox=dict(boxstyle='round', ec='k', fc='w'))\n",
    "\n",
    "# Second plot: KNN, k=6\n",
    "ax2 = plt.subplot(222, aspect='equal')\n",
    "ax2.imshow(dens_k6.T, origin='lower', norm=LogNorm(),\n",
    "           extent=(ymin, ymax, xmin, xmax), cmap=plt.cm.binary)\n",
    "ax2.text(0.95, 0.9, \"$k$-neighbors $(k=6)$\", ha='right', va='top',\n",
    "         transform=ax2.transAxes,\n",
    "         bbox=dict(boxstyle='round', ec='k', fc='w'))\n",
    "\n",
    "# Third plot: KNN, k=10\n",
    "ax3 = plt.subplot(223, aspect='equal')\n",
    "ax3.imshow(dens_k10.T, origin='lower', norm=LogNorm(),\n",
    "           extent=(ymin, ymax, xmin, xmax), cmap=plt.cm.binary)\n",
    "ax3.text(0.95, 0.9, \"$k$-neighbors $(k=10)$\", ha='right', va='top',\n",
    "         transform=ax3.transAxes,\n",
    "         bbox=dict(boxstyle='round', ec='k', fc='w'))\n",
    "\n",
    "# Fourth plot: KNN, k=18\n",
    "ax4 = plt.subplot(224, aspect='equal')\n",
    "ax4.imshow(dens_k18.T, origin='lower', norm=LogNorm(),\n",
    "           extent=(ymin, ymax, xmin, xmax), cmap=plt.cm.binary)\n",
    "ax4.text(0.95, 0.9, \"$k$-neighbors $(k=18)$\", ha='right', va='top',\n",
    "         transform=ax4.transAxes,\n",
    "         bbox=dict(boxstyle='round', ec='k', fc='w'))\n",
    "\n",
    "for ax in [ax1, ax2, ax3, ax4]:\n",
    "    ax.set_xlim(ymin, ymax - 0.01)\n",
    "    ax.set_ylim(xmin, xmax)\n",
    "\n",
    "for ax in [ax1, ax2]:\n",
    "    ax.xaxis.set_major_formatter(plt.NullFormatter())\n",
    "\n",
    "for ax in [ax3, ax4]:\n",
    "    ax.set_xlabel('pc')\n",
    "\n",
    "for ax in [ax2, ax4]:\n",
    "    ax.yaxis.set_major_formatter(plt.NullFormatter())\n",
    "\n",
    "for ax in [ax1, ax3]:\n",
    "    ax.set_ylabel('pc')\n",
    "\n",
    "\n",
    "plt.show()"
   ]
  },
  {
   "cell_type": "code",
   "execution_count": null,
   "metadata": {
    "collapsed": true
   },
   "outputs": [],
   "source": [
    "plt.figure(4, figsize=(15,15))\n",
    "ax5 = plt.subplot(111)\n",
    "ax5.scatter(Class_I[:, 1], Class_I[:, 0], s=10, lw=0, c='salmon', label='Class I')\n",
    "ax5.scatter(Class_II[:, 1], Class_II[:, 0], s=10, lw=0, c='lawngreen', label='Class II')\n",
    "ax5.scatter(Class_III[:, 1], Class_III[:, 0], s=10, lw=0, c='dodgerblue', label='Class III')\n",
    "ax5.scatter(Unclass[:, 1], Unclass[:, 0], s=10, lw=0, c='slateblue', label='Unclassified X-ray sources')\n",
    "hx = ax5.imshow(dens_k18.T, origin='lower', norm=LogNorm(),\n",
    "           extent=(ymin, ymax, xmin, xmax), cmap=plt.cm.hot)\n",
    "cb = plt.colorbar(hx)\n",
    "cb.ax.tick_params(labelsize=14)\n",
    "rect = patches.Rectangle((-3.85,-4.05),8,8, fill=False, edgecolor='g')\n",
    "t = mpl.transforms.Affine2D().rotate_deg(331) + ax5.transData\n",
    "rect.set_transform(t)\n",
    "plt.gca().add_patch(rect)\n",
    "plt.legend(scatterpoints=1, markerscale=2., fontsize=12, loc=1)\n",
    "plt.xlabel('pc', fontsize = 15)\n",
    "plt.ylabel('pc', fontsize = 15)\n",
    "plt.tick_params(labelsize=14)\n",
    "\n",
    "\n",
    "plt.show()"
   ]
  }
 ],
 "metadata": {
  "kernelspec": {
   "display_name": "Python 3",
   "language": "python",
   "name": "python3"
  },
  "language_info": {
   "codemirror_mode": {
    "name": "ipython",
    "version": 3
   },
   "file_extension": ".py",
   "mimetype": "text/x-python",
   "name": "python",
   "nbconvert_exporter": "python",
   "pygments_lexer": "ipython3",
   "version": "3.6.1"
  }
 },
 "nbformat": 4,
 "nbformat_minor": 2
}
